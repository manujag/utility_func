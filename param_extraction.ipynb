{
 "cells": [
  {
   "cell_type": "code",
   "execution_count": 23,
   "id": "5e73fb8c-9364-42d5-8767-7ad0f040611a",
   "metadata": {},
   "outputs": [],
   "source": [
    "from collections import OrderedDict"
   ]
  },
  {
   "cell_type": "code",
   "execution_count": 16,
   "id": "8abe192a-21d2-4ff4-be79-fe910c490fd0",
   "metadata": {},
   "outputs": [],
   "source": [
    "# all should be lower case and stripped\n",
    "COLUMN_KEYWORDS = {\n",
    "    \"Parameter\": [\n",
    "        \"characterstics\",  # order should be descending orde rof length of strings\n",
    "        \"parameter\",\n",
    "    ],\n",
    "    \"Result\": [\n",
    "        \"test value\",\n",
    "        \"result\"\n",
    "    ],\n",
    "    \"Method\": [\n",
    "        \"method\"\n",
    "    ],\n",
    "    \"Min\": [\n",
    "        \"lower\"            \n",
    "    ]\n",
    "}"
   ]
  },
  {
   "cell_type": "code",
   "execution_count": 47,
   "id": "2a3e581d-1c57-48da-af43-5b4267222cf4",
   "metadata": {},
   "outputs": [
    {
     "name": "stdout",
     "output_type": "stream",
     "text": [
      "[1, 2]\n"
     ]
    }
   ],
   "source": [
    "from collections import Counter\n",
    "\n",
    "my_list = [1, 2, 3, 2, 4, 1, 5]\n",
    "\n",
    "# count occurrences\n",
    "counts = Counter(my_list)\n",
    "\n",
    "# get elements that occur more than once\n",
    "duplicates = [item for item, count in counts.items() if count > 1]\n",
    "\n",
    "print(duplicates)  # [1, 2]\n"
   ]
  },
  {
   "cell_type": "code",
   "execution_count": 59,
   "id": "694e8e34-f7c0-4776-95df-40322b06198a",
   "metadata": {},
   "outputs": [
    {
     "name": "stdout",
     "output_type": "stream",
     "text": [
      "OrderedDict([('characterstics', 'Parameter'), ('characterstic', 'Result'), ('parameter', 'Parameter'), ('testvalue', 'Result'), ('result', 'Result'), ('method', 'Method'), ('lower', 'Min')])\n",
      "{'testvalues': 'Result', 'methods': 'Method', 'lower': 'Min'}\n",
      "{''} 1\n",
      "{'Parameter'}\n",
      "{'testvalues': 'Result', 'methods': 'Method', 'lower': 'Min', '': 'Parameter'}\n"
     ]
    }
   ],
   "source": [
    "\n",
    "MANDATORY_COLUMNS: set = {\"Parameter\", \"Result\"}\n",
    "# all should be lower case and stripped with whitespace removed\n",
    "COLUMN_KEYWORDS = {\n",
    "    \"characterstic\": \"Result\",\n",
    "    \"parameter\": \"Parameter\",\n",
    "    \"testvalue\": \"Result\",\n",
    "    \"result\": \"Result\",\n",
    "    \"method\": \"Method\",\n",
    "    \"lower\": \"Min\",\n",
    "    \"characterstics\": \"Parameter\",\n",
    "}\n",
    "\n",
    "# all should be lower case\n",
    "# stripped\n",
    "\n",
    "\n",
    "orignial_header_strings = {\n",
    "   #\"characterstics\",\n",
    "    \"testvalues\",\n",
    "    \"methods\",\n",
    "    \"lower\",\n",
    "    \"\",\n",
    "}\n",
    "header_strings = orignial_header_strings.copy()\n",
    "\n",
    "column_mapping  = dict()\n",
    "# order by length of key\n",
    "COLUMN_KEYWORDS = OrderedDict(\n",
    "    sorted(COLUMN_KEYWORDS.items(), key=lambda x: len(x[0]), reverse=True)\n",
    ")\n",
    "print(COLUMN_KEYWORDS)\n",
    "i = 0\n",
    "for kwrd, colm in list(COLUMN_KEYWORDS.items()):\n",
    "    #print(f\"{i}\\n\\n\")\n",
    "    #print(f\"header_strings --> \\n {header_strings}\")\n",
    "    #print(f\"column_mapping --> \\n {column_mapping}\")\n",
    "    for hdr in list(header_strings):\n",
    "        if kwrd in hdr:\n",
    "            column = COLUMN_KEYWORDS.pop(kwrd)\n",
    "            column_mapping[hdr] = column\n",
    "            kwrds_to_remove = [k for k, v in COLUMN_KEYWORDS.items() if v==column]\n",
    "            for key in kwrds_to_remove:\n",
    "                _ = COLUMN_KEYWORDS.pop(key, None)\n",
    "            header_strings.discard(hdr)\n",
    "    i += 1\n",
    "\n",
    "print(column_mapping)\n",
    "print(header_strings, len(header_strings))\n",
    "\n",
    "\n",
    "detected_columns: set = set(column_mapping.values())\n",
    "mandat_not_detected: set = MANDATORY_COLUMNS - detected_columns\n",
    "if (len(mandat_not_detected) == 1) and (len(header_strings) == 1): # if only one mandatory parameter is not detected\n",
    "    print(mandat_not_detected)\n",
    "    column_mapping[header_strings.pop()] = mandat_not_detected.pop()\n",
    "print(column_mapping)"
   ]
  },
  {
   "cell_type": "code",
   "execution_count": 58,
   "id": "1fdd891a-c5ac-46dd-ba78-829ced2a8324",
   "metadata": {},
   "outputs": [
    {
     "name": "stdout",
     "output_type": "stream",
     "text": [
      "{'Parameter'}\n",
      "{'test values': 'Result', 'methods': 'Method', 'lower': 'Min', '': 'Parameter'}\n"
     ]
    }
   ],
   "source": [
    "detected_columns: set = set(column_mapping.values())\n",
    "mandat_not_detected: set = MANDATORY_COLUMNS - detected_columns\n",
    "if (len(mandat_not_detected) == 1) and (len(header_strings) == 1): # if only one mandatory parameter is not detected\n",
    "    print(mandat_not_detected)\n",
    "    column_mapping[header_strings.pop()] = mandat_not_detected.pop()\n",
    "print(column_mapping)"
   ]
  },
  {
   "cell_type": "code",
   "execution_count": 21,
   "id": "b4a197bb-89bc-40dd-b0be-1baab9634a00",
   "metadata": {},
   "outputs": [
    {
     "name": "stdout",
     "output_type": "stream",
     "text": [
      "{'characterstics': 'Parameter', 'test value': 'Result', 'method': 'Method', 'lower': 'Min'}\n",
      "set()\n"
     ]
    }
   ],
   "source": [
    "# all should be lower case\n",
    "# stripped\n",
    "\n",
    "header_strings = {\n",
    "    \"characterstics\",\n",
    "    \"test values\",\n",
    "    \"methods\",\n",
    "    \"lower\",\n",
    "}\n",
    "\n",
    "column_mapping  = dict()\n",
    "for colm, kwrds in COLUMN_KEYWORDS.items():\n",
    "    for wrd in kwrds:\n",
    "        for hdr in list(header_strings):\n",
    "            if wrd in hdr:\n",
    "                column_mapping[wrd] = colm\n",
    "                header_strings.discard(hdr)\n",
    "print(column_mapping)\n",
    "print(header_strings)"
   ]
  },
  {
   "cell_type": "code",
   "execution_count": null,
   "id": "29f66c23-635e-4209-995b-e02697be4802",
   "metadata": {},
   "outputs": [],
   "source": [
    "# all should be lower case\n",
    "# stripped\n",
    "\n",
    "header_strings = {\n",
    "    \"characterstics\",\n",
    "    \"test values\",\n",
    "    \"methods\",\n",
    "    \"lower\",\n",
    "}\n",
    "\n",
    "column_mapping  = dict()\n",
    "for colm, kwrds in COLUMN_KEYWORDS.items():\n",
    "    for wrd in kwrds:\n",
    "        for hdr in list(header_strings):\n",
    "            if wrd in hdr:\n",
    "                column_mapping[wrd] = colm\n",
    "                header_strings.discard(hdr)\n",
    "print(column_mapping)\n",
    "print(header_strings)"
   ]
  },
  {
   "cell_type": "code",
   "execution_count": 62,
   "id": "076b4c2e-fc46-41ee-bde7-5f8a0fdebcbd",
   "metadata": {},
   "outputs": [
    {
     "name": "stdout",
     "output_type": "stream",
     "text": [
      " Volume in drive C is Windows-SSD\n",
      " Volume Serial Number is 12BF-1673\n",
      "\n",
      " Directory of C:\\Users\\mjman\\OneDrive\\Documents\\Learning_Materials\\table_paramters_extraction\n",
      "\n",
      "31-08-2025  09:38    <DIR>          .\n",
      "30-08-2025  09:34    <DIR>          ..\n",
      "30-08-2025  09:35    <DIR>          .ipynb_checkpoints\n",
      "31-08-2025  09:38             7,546 param_extraction.ipynb\n",
      "               1 File(s)          7,546 bytes\n",
      "               3 Dir(s)  234,900,385,792 bytes free\n"
     ]
    }
   ],
   "source": [
    "!dir"
   ]
  },
  {
   "cell_type": "code",
   "execution_count": null,
   "id": "f4841bc7-3213-461b-83df-54c5c6c25cad",
   "metadata": {},
   "outputs": [],
   "source": []
  }
 ],
 "metadata": {
  "kernelspec": {
   "display_name": "Python 3 (ipykernel)",
   "language": "python",
   "name": "python3"
  },
  "language_info": {
   "codemirror_mode": {
    "name": "ipython",
    "version": 3
   },
   "file_extension": ".py",
   "mimetype": "text/x-python",
   "name": "python",
   "nbconvert_exporter": "python",
   "pygments_lexer": "ipython3",
   "version": "3.11.8"
  }
 },
 "nbformat": 4,
 "nbformat_minor": 5
}
